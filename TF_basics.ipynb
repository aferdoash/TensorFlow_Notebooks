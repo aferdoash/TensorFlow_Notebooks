{
 "cells": [
  {
   "cell_type": "markdown",
   "metadata": {},
   "source": [
    "## TensorFlow Basics\n",
    "\n",
    "The following introduces the basic concepts in TensorFlow. TensorFlow works by creating/defining computation graphs using data types called as 'Operations'. It then runs these operations in 'Sessions' to perform the defined computations\n",
    "\n",
    "Requirements:\n",
    "1. Python 2.7\n",
    "2. TensorFlow\n",
    "3. Numpy\n",
    "\n",
    "References:\n",
    "1. TensorFlow for Machine Intelligence\n",
    "2. https://github.com/sjchoi86/Tensorflow-101 "
   ]
  },
  {
   "cell_type": "markdown",
   "metadata": {},
   "source": [
    "### Import packages"
   ]
  },
  {
   "cell_type": "code",
   "execution_count": null,
   "metadata": {
    "collapsed": true
   },
   "outputs": [],
   "source": [
    "import numpy as np\n",
    "import tensorflow as tf"
   ]
  },
  {
   "cell_type": "markdown",
   "metadata": {},
   "source": [
    "### TensorFlow data types\n",
    "Also called operations. These are required for defining the computation graphs"
   ]
  },
  {
   "cell_type": "code",
   "execution_count": 2,
   "metadata": {
    "collapsed": false
   },
   "outputs": [
    {
     "name": "stdout",
     "output_type": "stream",
     "text": [
      " Type of d : <class 'tensorflow.python.framework.ops.Tensor'>\n",
      " Type of c : <class 'tensorflow.python.framework.ops.Tensor'>\n"
     ]
    }
   ],
   "source": [
    "# Initialize some tensors to use in computation\n",
    "a= np.array([2,3], dtype = np.int32)\n",
    "b= np.array([4,5], dtype =np.int32)\n",
    "\n",
    "# CONSTANT operation\n",
    "d = tf.constant(\"Hello world!\")\n",
    "print(\" Type of d : %s\" % type(d))\n",
    "\n",
    "# ADD operation\n",
    "c = tf.add(a,b)\n",
    "print(\" Type of c : %s\" % type(c))\n"
   ]
  },
  {
   "cell_type": "markdown",
   "metadata": {},
   "source": [
    "### TensorFlow Sessions\n",
    "For running defined graphs"
   ]
  },
  {
   "cell_type": "code",
   "execution_count": 3,
   "metadata": {
    "collapsed": false
   },
   "outputs": [
    {
     "name": "stdout",
     "output_type": "stream",
     "text": [
      "Output of d: Hello world!\n",
      "Output of c: [6 8]\n"
     ]
    }
   ],
   "source": [
    "sess =tf.Session()\n",
    "\n",
    "d_out = sess.run(d)\n",
    "print(\"Output of d: %s\" % (d_out))\n",
    "\n",
    "c_out =sess.run(c)\n",
    "print(\"Output of c: %s\" % (c_out))\n",
    "\n",
    "#Close session after use\n",
    "sess.close()\n"
   ]
  },
  {
   "cell_type": "markdown",
   "metadata": {},
   "source": [
    "### Variables and Placeholders\n",
    "The difference is that with tf.Variable you have to provide an initial value when you declare it. With tf.placeholder you don't have to provide an initial value and you can specify it at run time with the feed_dict argument inside session.run() method"
   ]
  },
  {
   "cell_type": "code",
   "execution_count": 4,
   "metadata": {
    "collapsed": false
   },
   "outputs": [
    {
     "data": {
      "text/plain": [
       "8"
      ]
     },
     "execution_count": 4,
     "metadata": {},
     "output_type": "execute_result"
    }
   ],
   "source": [
    "# Creates a placeholder of length 2 with dtype int32\n",
    "e  = tf.placeholder(tf.int32, shape = [2])\n",
    "\n",
    "# Use the placeholder like a tensor object\n",
    "# reduce_sum and reduce_mul when given a tensor as input, adds/multiplies all its component\n",
    "f = tf.reduce_sum(e)\n",
    "\n",
    "# To use placeholder, assign value using feed_dict, hence create a dictionary with key as placeholder handle\n",
    "e_dict = {e:np.array([5,3], dtype = np.int32)}\n",
    "\n",
    "\n",
    "# Fetch the value of f feeding e_dict for e\n",
    "sess =tf.Session()\n",
    "sess.run(f, feed_dict=e_dict)\n"
   ]
  },
  {
   "cell_type": "code",
   "execution_count": 10,
   "metadata": {
    "collapsed": false
   },
   "outputs": [
    {
     "name": "stdout",
     "output_type": "stream",
     "text": [
      "Result of b_iter1: 20\n",
      "Result of b_iter2: 40\n"
     ]
    }
   ],
   "source": [
    "# Create a Variable using its constructor tf.Variable\n",
    "my_var = tf.Variable(3, name =\"My_Variable\")\n",
    "\n",
    "# Variable objects' state is managed by a session. Hence, must initialize all variables within a session\n",
    "#sess.run(my_var) #WILL RETURN AN ERROR\n",
    "\n",
    "init = tf.initialize_all_variables()\n",
    "sess.run(init)\n",
    "\n",
    "# If select initialization is desired then-:\n",
    "init_my_var = tf.initialize_variables([my_var])\n",
    "sess.run(init_my_var)\n",
    "\n",
    "# Change value of variable using Variable.assign() method\n",
    "a= tf.Variable(10)\n",
    "b= a.assign(a*2)\n",
    "init = tf.initialize_all_variables()\n",
    "sess.run(init)\n",
    "\n",
    "#Multiply once by 2 \n",
    "print(\"Result of b_iter1: %d\" % (sess.run(b)))\n",
    "\n",
    "#Multiply again by 2\n",
    "print(\"Result of b_iter2: %d\" % (sess.run(b)))"
   ]
  }
 ],
 "metadata": {
  "kernelspec": {
   "display_name": "Python 2",
   "language": "python",
   "name": "python2"
  },
  "language_info": {
   "codemirror_mode": {
    "name": "ipython",
    "version": 2
   },
   "file_extension": ".py",
   "mimetype": "text/x-python",
   "name": "python",
   "nbconvert_exporter": "python",
   "pygments_lexer": "ipython2",
   "version": "2.7.6"
  }
 },
 "nbformat": 4,
 "nbformat_minor": 1
}
