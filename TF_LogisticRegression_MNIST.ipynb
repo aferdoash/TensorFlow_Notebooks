{
 "cells": [
  {
   "cell_type": "code",
   "execution_count": 1,
   "metadata": {
    "collapsed": false
   },
   "outputs": [
    {
     "name": "stderr",
     "output_type": "stream",
     "text": [
      "/usr/local/lib/python2.7/dist-packages/matplotlib/font_manager.py:273: UserWarning: Matplotlib is building the font cache using fc-list. This may take a moment.\n",
      "  warnings.warn('Matplotlib is building the font cache using fc-list. This may take a moment.')\n"
     ]
    }
   ],
   "source": [
    "import numpy as np\n",
    "import tensorflow as tf\n",
    "import matplotlib.pyplot as plt\n",
    "from tensorflow.examples.tutorials.mnist import input_data\n",
    "\n",
    "%matplotlib inline  \n"
   ]
  },
  {
   "cell_type": "markdown",
   "metadata": {},
   "source": [
    "## Downloading and Extracting MNIST data"
   ]
  },
  {
   "cell_type": "code",
   "execution_count": 2,
   "metadata": {
    "collapsed": false
   },
   "outputs": [
    {
     "name": "stdout",
     "output_type": "stream",
     "text": [
      "Extracting data/train-images-idx3-ubyte.gz\n",
      "Extracting data/train-labels-idx1-ubyte.gz\n",
      "Extracting data/t10k-images-idx3-ubyte.gz\n",
      "Extracting data/t10k-labels-idx1-ubyte.gz\n",
      "\n",
      " Training data size is 55000\n",
      " Test data size is 10000\n"
     ]
    }
   ],
   "source": [
    "mnist = input_data.read_data_sets('data/', one_hot=True)\n",
    "\n",
    "print\n",
    "print (\" Training data size is %d\" % (mnist.train.num_examples))\n",
    "print (\" Test data size is %d\" % (mnist.test.num_examples))"
   ]
  },
  {
   "cell_type": "markdown",
   "metadata": {},
   "source": [
    "## What does the data look like ?"
   ]
  },
  {
   "cell_type": "code",
   "execution_count": 3,
   "metadata": {
    "collapsed": false
   },
   "outputs": [
    {
     "name": "stdout",
     "output_type": "stream",
     "text": [
      "\n",
      " type of 'trainimg' is <type 'numpy.ndarray'>\n",
      " type of 'trainlabel' is <type 'numpy.ndarray'>\n",
      " shape of 'trainimg' is (55000, 784)\n",
      " shape of 'trainlabel' is (55000, 10)\n",
      "43754th Training Data Label is 4\n",
      "6267th Training Data Label is 0\n"
     ]
    },
    {
     "data": {
      "image/png": "[encoded data removed]",
      "text/plain": [
       "<matplotlib.figure.Figure at 0x7fec417e2290>"
      ]
     },
     "metadata": {},
     "output_type": "display_data"
    },
    {
     "data": {
      "image/png": "[encoded data removed]",
      "text/plain": [
       "<matplotlib.figure.Figure at 0x7fec4171a0d0>"
      ]
     },
     "metadata": {},
     "output_type": "display_data"
    }
   ],
   "source": [
    "trainimg   = mnist.train.images\n",
    "trainlabel = mnist.train.labels\n",
    "testimg    = mnist.test.images\n",
    "testlabel  = mnist.test.labels\n",
    "\n",
    "print\n",
    "print (\" type of 'trainimg' is %s\"    % (type(trainimg)))\n",
    "print (\" type of 'trainlabel' is %s\"  % (type(trainlabel)))\n",
    "print (\" shape of 'trainimg' is %s\"   % (trainimg.shape,))\n",
    "print (\" shape of 'trainlabel' is %s\" % (trainlabel.shape,))\n",
    "\n",
    "nsample = 2\n",
    "randidx = np.random.randint(trainimg.shape[0], size=nsample)\n",
    "\n",
    "for i in randidx:\n",
    "    curr_img   = np.reshape(trainimg[i, :], (28, 28)) # 28 by 28 matrix \n",
    "    curr_label = np.argmax(trainlabel[i, :] ) # Label\n",
    "    plt.matshow(curr_img, cmap=plt.get_cmap('gray'))\n",
    "    plt.title(\"\" + str(i) + \"th Training Data \" \n",
    "              + \"Label is \" + str(curr_label))\n",
    "    print (\"\" + str(i) + \"th Training Data \" \n",
    "           + \"Label is \" + str(curr_label))"
   ]
  },
  {
   "cell_type": "markdown",
   "metadata": {},
   "source": [
    "## Defining the model\n",
    "\n",
    " %% We can create a container for an input image using tensorflow's graph:\n",
    " We allow the first dimension to be None, since this will eventually\n",
    " represent our mini-batches, or how many images we feed into a network\n",
    " at a time during training/validation/testing.\n",
    " The second dimension is the number of features that the image has."
   ]
  },
  {
   "cell_type": "code",
   "execution_count": 6,
   "metadata": {
    "collapsed": false
   },
   "outputs": [
    {
     "name": "stdout",
     "output_type": "stream",
     "text": [
      "Network constructed\n"
     ]
    }
   ],
   "source": [
    "# Parameters of Logistic Regression\n",
    "learning_rate   = 0.01\n",
    "training_epochs = 50\n",
    "batch_size      = 100\n",
    "display_step    = 5\n",
    "\n",
    "\n",
    "\n",
    "# Create Graph for Logistic Regression\n",
    "x = tf.placeholder(np.float32, [None, 784]) \n",
    "y = tf.placeholder(np.float32, [None, 10])  \n",
    "\n",
    "W = tf.Variable(tf.zeros([784, 10]))\n",
    "b = tf.Variable(tf.zeros([10]))\n",
    "\n",
    "\n",
    "# Activation, loss, and Optimizing functions\n",
    "actv = tf.nn.softmax(tf.matmul(x, W) + b) # Softmax\n",
    "\n",
    "# And then write our loss function:\n",
    "cross_entropy = -tf.reduce_sum(y * tf.log(actv))\n",
    "\n",
    "\n",
    "# Finally, the optimizing function \n",
    "optm = tf.train.GradientDescentOptimizer(learning_rate).minimize(cross_entropy) \n",
    "\n",
    "# This would check if our prediction equals the actual value\n",
    "pred = tf.equal(tf.argmax(actv, 1), tf.argmax(y, 1))  \n",
    "\n",
    "# And now we can look at the mean of our network's correct guesses\n",
    "accr = tf.reduce_mean(tf.cast(pred, \"float\"))\n",
    "                      \n",
    "print (\"Network constructed\")"
   ]
  },
  {
   "cell_type": "code",
   "execution_count": 9,
   "metadata": {
    "collapsed": false
   },
   "outputs": [
    {
     "name": "stdout",
     "output_type": "stream",
     "text": [
      "0.914\n",
      "0.9214\n",
      "0.9158\n",
      "0.9212\n",
      "0.9214\n",
      "0.9122\n",
      "0.9132\n",
      "0.9066\n",
      "0.9224\n",
      "0.922\n",
      "Final test accuracy: 0.920100\n"
     ]
    }
   ],
   "source": [
    "sess = tf.Session()\n",
    "sess.run(tf.initialize_all_variables())\n",
    "\n",
    "# Perform training:\n",
    "batch_size = 100\n",
    "n_epochs = 10\n",
    "for epoch_i in range(n_epochs):\n",
    "    for batch_i in range(mnist.train.num_examples // batch_size):\n",
    "        batch_xs, batch_ys = mnist.train.next_batch(batch_size)\n",
    "        sess.run(optm, feed_dict={\n",
    "            x: batch_xs,\n",
    "            y: batch_ys\n",
    "        })\n",
    "    print(sess.run(accr,\n",
    "                   feed_dict={\n",
    "                       x: mnist.validation.images,\n",
    "                       y: mnist.validation.labels\n",
    "                   }))\n",
    "\n",
    "\n",
    "# %% Print final test accuracy:\n",
    "accurs = (sess.run(accr,\n",
    "               feed_dict={\n",
    "                   x: mnist.test.images,\n",
    "                   y: mnist.test.labels\n",
    "               }))\n",
    "print(\"Final test accuracy: %f\" % (accurs))"
   ]
  },
  {
   "cell_type": "code",
   "execution_count": null,
   "metadata": {
    "collapsed": true
   },
   "outputs": [],
   "source": []
  }
 ],
 "metadata": {
  "kernelspec": {
   "display_name": "Python 2",
   "language": "python",
   "name": "python2"
  },
  "language_info": {
   "codemirror_mode": {
    "name": "ipython",
    "version": 2
   },
   "file_extension": ".py",
   "mimetype": "text/x-python",
   "name": "python",
   "nbconvert_exporter": "python",
   "pygments_lexer": "ipython2",
   "version": "2.7.6"
  }
 },
 "nbformat": 4,
 "nbformat_minor": 1
}
