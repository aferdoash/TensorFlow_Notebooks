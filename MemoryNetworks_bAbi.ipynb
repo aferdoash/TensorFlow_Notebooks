{
 "cells": [
  {
   "cell_type": "markdown",
   "metadata": {},
   "source": [
    "### Memory network on the bAbI dataset.\n",
    "\n",
    "Building an intelligent dialogue agent is tricky because of the inherent difficulties in building a robust natural Language understanding and reasoning system. The bAbI dataset and tasks were simulated to test performances of different deep learning nets towards 'AI-Complete\" question answering. Following is an implementation of the Question-Answering tasks described in Weston et al. using Memory Networks.\n",
    "\n",
    "References:\n",
    "- Jason Weston, Antoine Bordes, Sumit Chopra, Tomas Mikolov, Alexander M. Rush,\n",
    "  \"Towards AI-Complete Question Answering: A Set of Prerequisite Toy Tasks\",\n",
    "  http://arxiv.org/abs/1502.05698\n",
    "- Sainbayar Sukhbaatar, Arthur Szlam, Jason Weston, Rob Fergus,\n",
    "  \"End-To-End Memory Networks\",\n",
    "  http://arxiv.org/abs/1503.08895\n",
    "- https://github.com/fchollet/keras/blob/master/examples/babi_memnn.py\n",
    "\n"
   ]
  },
  {
   "cell_type": "markdown",
   "metadata": {},
   "source": [
    "### TASKS\n",
    "\n",
    "bAbi tasks intend to evaluate reading comprehension via question answering.It is a synthetic dataset with the tasks being generated via simulation. This is done to get rid of inherent noise and complexity in real world data.With the synthetic dataset, all the common sense knowledge and reasoning required for the test set is contained in the training set which ensures that if a machine learning model then fails to solve the task, we know that the challenge is in the model itself.\n",
    "\n",
    "Following are the different flavors of tasks employed -:\n",
    "                         \n",
    "1.  QA1 - Single Supporting Fact \n",
    "2.  QA2 - Two Supporting Facts   \n",
    "3.  QA3 - Three Supporting Facts \n",
    "4.  QA4 - Two Arg. Relations     \n",
    "5.  QA5 - Three Arg. Relations   \n",
    "6.  QA6 - Yes/No Questions       \n",
    "7.  QA7 - Counting               \n",
    "8.  QA8 - Lists/Sets             \n",
    "9.  QA9 - Simple Negation        \n",
    "10. QA10 - Indefinite Knowledge  \n",
    "11. QA11 - Basic Coreference     \n",
    "12. QA12 - Conjunction           \n",
    "13. QA13 - Compound Coreference  \n",
    "14. QA14 - Time Reasoning        \n",
    "15. QA15 - Basic Deduction       \n",
    "16. QA16 - Basic Induction       \n",
    "17. QA17 - Positional Reasoning \n",
    "18. QA18 - Size Reasoning        \n",
    "19. QA19 - Path Finding          \n",
    "20. QA20 - Agent's Motivations  \n",
    "\n",
    "Here we demonstrate performance of the memory network on QA1. For this task we use 10000 questions for training and 1000 for testing."
   ]
  },
  {
   "cell_type": "markdown",
   "metadata": {},
   "source": [
    "### Story processing\n",
    "\n",
    "Each story is processed to reduce sentences to tokens and combine all facts and queries relevant to the story. "
   ]
  },
  {
   "cell_type": "code",
   "execution_count": 129,
   "metadata": {
    "collapsed": false
   },
   "outputs": [],
   "source": [
    "def tokenize(sent):\n",
    "    '''Return the tokens of a sentence including punctuation.\n",
    "    >>> tokenize('Bob dropped the apple. Where is the apple?')\n",
    "    ['Bob', 'dropped', 'the', 'apple', '.', 'Where', 'is', 'the', 'apple', '?']\n",
    "    '''\n",
    "    return [x.strip() for x in re.split('(\\W+)?', sent) if x.strip()]\n"
   ]
  },
  {
   "cell_type": "code",
   "execution_count": 130,
   "metadata": {
    "collapsed": true
   },
   "outputs": [],
   "source": [
    "def parse_stories(lines, only_supporting=False):\n",
    "    '''Parse stories provided in the bAbi tasks format\n",
    "    If only_supporting is true, only the sentences that support the answer are kept.\n",
    "    '''\n",
    "    data = []\n",
    "    story = []\n",
    "    for line in lines:\n",
    "        line = line.decode('utf-8').strip()\n",
    "        nid, line = line.split(' ', 1)\n",
    "        nid = int(nid)\n",
    "        if nid == 1:\n",
    "            story = []\n",
    "        if '\\t' in line:\n",
    "            q, a, supporting = line.split('\\t')\n",
    "            q = tokenize(q)\n",
    "            substory = None\n",
    "            if only_supporting:\n",
    "                # Only select the related substory\n",
    "                supporting = map(int, supporting.split())\n",
    "                substory = [story[i - 1] for i in supporting]\n",
    "            else:\n",
    "                # Provide all the substories\n",
    "                substory = [x for x in story if x]\n",
    "            data.append((substory, q, a))\n",
    "            story.append('')\n",
    "        else:\n",
    "            sent = tokenize(line)\n",
    "            story.append(sent)\n",
    "    return data"
   ]
  },
  {
   "cell_type": "code",
   "execution_count": 131,
   "metadata": {
    "collapsed": true
   },
   "outputs": [],
   "source": [
    "\n",
    "def get_stories(f, only_supporting=False, max_length=None):\n",
    "    '''Given a file name, read the file, retrieve the stories, and then convert the sentences into a single story.\n",
    "    If max_length is supplied, any stories longer than max_length tokens will be discarded.\n",
    "    '''\n",
    "    data = parse_stories(f.readlines(), only_supporting=only_supporting)\n",
    "    flatten = lambda data: reduce(lambda x, y: x + y, data)\n",
    "    data = [(flatten(story), q, answer) for story, q, answer in data if not max_length or len(flatten(story)) < max_length]\n",
    "    return data\n"
   ]
  },
  {
   "cell_type": "code",
   "execution_count": 132,
   "metadata": {
    "collapsed": true
   },
   "outputs": [],
   "source": [
    "def vectorize_stories(data, word_idx, story_maxlen, query_maxlen):\n",
    "    X = []\n",
    "    Xq = []\n",
    "    Y = []\n",
    "    for story, query, answer in data:\n",
    "        x = [word_idx[w] for w in story]\n",
    "        xq = [word_idx[w] for w in query]\n",
    "        y = np.zeros(len(word_idx) + 1)  # let's not forget that index 0 is reserved\n",
    "        y[word_idx[answer]] = 1\n",
    "        X.append(x)\n",
    "        Xq.append(xq)\n",
    "        Y.append(y)\n",
    "    return (pad_sequences(X, maxlen=story_maxlen),\n",
    "            pad_sequences(Xq, maxlen=query_maxlen), np.array(Y))"
   ]
  },
  {
   "cell_type": "code",
   "execution_count": 133,
   "metadata": {
    "collapsed": true
   },
   "outputs": [],
   "source": [
    "try:\n",
    "    path = get_file('babi-tasks-v1-2.tar.gz', origin='https://s3.amazonaws.com/text-datasets/babi_tasks_1-20_v1-2.tar.gz')\n",
    "except:\n",
    "    print('Error downloading dataset, please download it manually:\\n'\n",
    "          '$ wget http://www.thespermwhale.com/jaseweston/babi/tasks_1-20_v1-2.tar.gz\\n'\n",
    "          '$ mv tasks_1-20_v1-2.tar.gz ~/.keras/datasets/babi-tasks-v1-2.tar.gz')\n",
    "    raise\n",
    "tar = tarfile.open(path)"
   ]
  },
  {
   "cell_type": "markdown",
   "metadata": {},
   "source": [
    "### Training Set\n",
    "\n",
    "Here the selection of 'Question' type (single supporting fact, three supporting facts etc.) is made for generating the training and test set. "
   ]
  },
  {
   "cell_type": "code",
   "execution_count": 134,
   "metadata": {
    "collapsed": false
   },
   "outputs": [
    {
     "name": "stdout",
     "output_type": "stream",
     "text": [
      "Extracting stories for the challenge: single_supporting_fact_10k\n"
     ]
    }
   ],
   "source": [
    "challenges = {\n",
    "    # QA1 with 10,000 samples\n",
    "    'single_supporting_fact_10k': 'tasks_1-20_v1-2/en-10k/qa1_single-supporting-fact_{}.txt',\n",
    "    # QA2 with 10,000 samples\n",
    "    'two_supporting_facts_10k': 'tasks_1-20_v1-2/en-10k/qa2_two-supporting-facts_{}.txt',\n",
    "}\n",
    "challenge_type = 'single_supporting_fact_10k'\n",
    "challenge = challenges[challenge_type]\n",
    "\n",
    "print('Extracting stories for the challenge:', challenge_type)\n",
    "train_stories = get_stories(tar.extractfile(challenge.format('train')))\n",
    "test_stories = get_stories(tar.extractfile(challenge.format('test')))\n"
   ]
  },
  {
   "cell_type": "code",
   "execution_count": 135,
   "metadata": {
    "collapsed": false
   },
   "outputs": [
    {
     "name": "stdout",
     "output_type": "stream",
     "text": [
      "Vocab size: 22 unique words\n",
      "Story max length: 68 words\n",
      "Query max length: 4 words\n",
      "Number of training stories: 10000\n",
      "Number of test stories: 1000\n",
      "\n",
      "\n",
      "Here's what a \"story\" tuple looks like (input, query, answer):\n",
      "([u'Mary', u'moved', u'to', u'the', u'bathroom', u'.', u'John', u'went', u'to', u'the', u'hallway', u'.'], [u'Where', u'is', u'Mary', u'?'], u'bathroom')\n"
     ]
    }
   ],
   "source": [
    "vocab = sorted(reduce(lambda x, y: x | y, (set(story + q + [answer]) for story, q, answer in train_stories + test_stories)))\n",
    "# Reserve 0 for masking via pad_sequences\n",
    "vocab_size = len(vocab) + 1\n",
    "story_maxlen = max(map(len, (x for x, _, _ in train_stories + test_stories)))\n",
    "query_maxlen = max(map(len, (x for _, x, _ in train_stories + test_stories)))\n",
    "\n",
    "print('Vocab size:', vocab_size, 'unique words')\n",
    "print('Story max length:', story_maxlen, 'words')\n",
    "print('Query max length:', query_maxlen, 'words')\n",
    "print('Number of training stories:', len(train_stories))\n",
    "print('Number of test stories:', len(test_stories))\n",
    "print('\\n')\n",
    "print('Here\\'s what a \"story\" tuple looks like (input, query, answer):')\n",
    "print(train_stories[0])"
   ]
  },
  {
   "cell_type": "markdown",
   "metadata": {},
   "source": [
    "### Vectorizing the word sequences\n",
    "\n",
    "Here we convert the word tokens to word vectors. We know the total number of unique words in the corpus, that is the size of the vocabulary. Thus, to each word in the corpus we assign a number. We also know the maximum length of a story, story_maxlen (story includes facts, query and answer). Thus, for each story we can construct a word vector of length story_maxlen. For eg. suppose, story_maxlen is 68 and the current story length is 24, then we can have a word vector with the first 34 indices as 0 and the next 24 indices with vocabulary index values of words in the current story"
   ]
  },
  {
   "cell_type": "code",
   "execution_count": 136,
   "metadata": {
    "collapsed": false
   },
   "outputs": [
    {
     "name": "stdout",
     "output_type": "stream",
     "text": [
      "inputs: integer tensor of shape (samples, max_length)\n",
      "inputs_train shape: (10000, 68)\n",
      "inputs_test shape: (1000, 68)\n",
      "\n",
      "\n",
      "queries: integer tensor of shape (samples, max_length)\n",
      "queries_train shape: (10000, 4)\n",
      "queries_test shape: (1000, 4)\n",
      "\n",
      "\n",
      "answers: binary (1 or 0) tensor of shape (samples, vocab_size)\n",
      "answers_train shape: (10000, 22)\n",
      "answers_test shape: (1000, 22)\n",
      "\n",
      "\n"
     ]
    }
   ],
   "source": [
    "word_idx = dict((c, i + 1) for i, c in enumerate(vocab))\n",
    "inputs_train, queries_train, answers_train = vectorize_stories(train_stories, word_idx, story_maxlen, query_maxlen)\n",
    "inputs_test, queries_test, answers_test = vectorize_stories(test_stories, word_idx, story_maxlen, query_maxlen)\n",
    "\n",
    "\n",
    "print('inputs: integer tensor of shape (samples, max_length)')\n",
    "print('inputs_train shape:', inputs_train.shape)\n",
    "print('inputs_test shape:', inputs_test.shape)\n",
    "print('\\n')\n",
    "print('queries: integer tensor of shape (samples, max_length)')\n",
    "print('queries_train shape:', queries_train.shape)\n",
    "print('queries_test shape:', queries_test.shape)\n",
    "print('\\n')\n",
    "print('answers: binary (1 or 0) tensor of shape (samples, vocab_size)')\n",
    "print('answers_train shape:', answers_train.shape)\n",
    "print('answers_test shape:', answers_test.shape)\n",
    "print('\\n')\n"
   ]
  },
  {
   "cell_type": "markdown",
   "metadata": {},
   "source": [
    "### End-to-End Memory Networks\n",
    "\n",
    "The model employed is the End-to-End Memory Networks described in Sukhbaatar et. al. (2015). The architecture is a modified form of Memory Network (Weston, 2014) with the training being weakly supervised.Weston's Memory Network was not easy to train via backpropagation and required supervision at each layer.\n",
    "\n",
    "\n",
    "Briefly, the model takes a discrete set of inputs x1, x2, ...xn that are to be stored in memory, a query q, and an answer a. The model writes all x to the memory up to a fixed buffer size, and then finds a continuous representation for x and q. The continuous representation is then processed via multiple hops to output a. \n"
   ]
  },
  {
   "cell_type": "code",
   "execution_count": 137,
   "metadata": {
    "collapsed": false
   },
   "outputs": [],
   "source": [
    "# embed the input sequence into a sequence of vectors\n",
    "# output: (samples, story_maxlen, embedding_dim)\n",
    "input_encoder_m = Sequential()\n",
    "input_encoder_m.add(Embedding(input_dim=vocab_size,\n",
    "                              output_dim=64,\n",
    "                              input_length=story_maxlen))\n",
    "input_encoder_m.add(Dropout(0.3))\n",
    "\n",
    "\n",
    "# embed the question into a sequence of vectors\n",
    "# output: (samples, query_maxlen, embedding_dim)\n",
    "question_encoder = Sequential()\n",
    "question_encoder.add(Embedding(input_dim=vocab_size,\n",
    "                               output_dim=64,\n",
    "                               input_length=query_maxlen))\n",
    "question_encoder.add(Dropout(0.3))\n",
    "\n",
    "# compute a 'match' between input sequence elements (which are vectors)\n",
    "# and the question vector sequence\n",
    "\n",
    "# output: (samples, story_maxlen, query_maxlen)\n",
    "match = Sequential()\n",
    "match.add(Merge([input_encoder_m, question_encoder],\n",
    "                mode='dot',\n",
    "                dot_axes=[2, 2]))\n",
    "match.add(Activation('softmax'))\n",
    "\n",
    "# embed the input into a single vector with size = story_maxlen:\n",
    "# output: (samples, story_maxlen, query_maxlen)\n",
    "input_encoder_c = Sequential()\n",
    "input_encoder_c.add(Embedding(input_dim=vocab_size,\n",
    "                              output_dim=query_maxlen,\n",
    "                              input_length=story_maxlen))\n",
    "input_encoder_c.add(Dropout(0.3))\n",
    "\n",
    "\n",
    "# sum the match vector with the input vector:\n",
    "# output: (samples, story_maxlen, query_maxlen)\n",
    "response = Sequential()\n",
    "response.add(Merge([match, input_encoder_c], mode='sum'))\n",
    "\n",
    "response.add(Permute((2, 1)))  # output: (samples, query_maxlen, story_maxlen)\n",
    "\n",
    "# concatenate the match vector with the question vector,\n",
    "# and do logistic regression on top\n",
    "answer = Sequential()\n",
    "answer.add(Merge([response, question_encoder], mode='concat', concat_axis=-1))\n",
    "\n",
    "\n",
    "# the original paper uses a matrix multiplication for this reduction step.\n",
    "# we choose to use a RNN instead.\n",
    "answer.add(LSTM(32))\n",
    "# one regularization layer -- more would probably be needed.\n",
    "answer.add(Dropout(0.3))\n",
    "answer.add(Dense(vocab_size))\n",
    "# we output a probability distribution over the vocabulary\n",
    "answer.add(Activation('softmax'))\n",
    "\n"
   ]
  },
  {
   "cell_type": "code",
   "execution_count": 138,
   "metadata": {
    "collapsed": false
   },
   "outputs": [
    {
     "name": "stdout",
     "output_type": "stream",
     "text": [
      "Train on 10000 samples, validate on 1000 samples\n",
      "Epoch 1/120\n",
      "10000/10000 [==============================] - 12s - loss: 1.9717 - acc: 0.1603 - val_loss: 1.7883 - val_acc: 0.1540\n",
      "Epoch 2/120\n",
      "10000/10000 [==============================] - 11s - loss: 1.7118 - acc: 0.2806 - val_loss: 1.5780 - val_acc: 0.4000\n",
      "Epoch 3/120\n",
      "10000/10000 [==============================] - 11s - loss: 1.5762 - acc: 0.3973 - val_loss: 1.4950 - val_acc: 0.4490\n",
      "Epoch 4/120\n",
      "10000/10000 [==============================] - 11s - loss: 1.5198 - acc: 0.4216 - val_loss: 1.4804 - val_acc: 0.4410\n",
      "Epoch 5/120\n",
      "10000/10000 [==============================] - 11s - loss: 1.4939 - acc: 0.4372 - val_loss: 1.4416 - val_acc: 0.4580\n",
      "Epoch 6/120\n",
      "10000/10000 [==============================] - 11s - loss: 1.4635 - acc: 0.4463 - val_loss: 1.4209 - val_acc: 0.4600\n",
      "Epoch 7/120\n",
      "10000/10000 [==============================] - 11s - loss: 1.4316 - acc: 0.4633 - val_loss: 1.4081 - val_acc: 0.4610\n",
      "Epoch 8/120\n",
      "10000/10000 [==============================] - 11s - loss: 1.3955 - acc: 0.4750 - val_loss: 1.3619 - val_acc: 0.5020\n",
      "Epoch 9/120\n",
      "10000/10000 [==============================] - 11s - loss: 1.3640 - acc: 0.4919 - val_loss: 1.3271 - val_acc: 0.5050\n",
      "Epoch 10/120\n",
      "10000/10000 [==============================] - 8s - loss: 1.3377 - acc: 0.5005 - val_loss: 1.2871 - val_acc: 0.5200\n",
      "Epoch 11/120\n",
      "10000/10000 [==============================] - 11s - loss: 1.3191 - acc: 0.5024 - val_loss: 1.2931 - val_acc: 0.5190\n",
      "Epoch 12/120\n",
      "10000/10000 [==============================] - 11s - loss: 1.3064 - acc: 0.5097 - val_loss: 1.2627 - val_acc: 0.5170\n",
      "Epoch 13/120\n",
      "10000/10000 [==============================] - 9s - loss: 1.2932 - acc: 0.5094 - val_loss: 1.2522 - val_acc: 0.5280\n",
      "Epoch 14/120\n",
      "10000/10000 [==============================] - 11s - loss: 1.2915 - acc: 0.5075 - val_loss: 1.2527 - val_acc: 0.5100\n",
      "Epoch 15/120\n",
      "10000/10000 [==============================] - 8s - loss: 1.2769 - acc: 0.5095 - val_loss: 1.2338 - val_acc: 0.5360\n",
      "Epoch 16/120\n",
      "10000/10000 [==============================] - 10s - loss: 1.2622 - acc: 0.5131 - val_loss: 1.2162 - val_acc: 0.5180\n",
      "Epoch 17/120\n",
      "10000/10000 [==============================] - 11s - loss: 1.2476 - acc: 0.5146 - val_loss: 1.2102 - val_acc: 0.5260\n",
      "Epoch 18/120\n",
      "10000/10000 [==============================] - 8s - loss: 1.2388 - acc: 0.5121 - val_loss: 1.1993 - val_acc: 0.5120\n",
      "Epoch 19/120\n",
      "10000/10000 [==============================] - 9s - loss: 1.2299 - acc: 0.5202 - val_loss: 1.2058 - val_acc: 0.5130\n",
      "Epoch 20/120\n",
      "10000/10000 [==============================] - 11s - loss: 1.2135 - acc: 0.5181 - val_loss: 1.1797 - val_acc: 0.5260\n",
      "Epoch 21/120\n",
      "10000/10000 [==============================] - 10s - loss: 1.1989 - acc: 0.5230 - val_loss: 1.1791 - val_acc: 0.5220\n",
      "Epoch 22/120\n",
      "10000/10000 [==============================] - 7s - loss: 1.2011 - acc: 0.5149 - val_loss: 1.1958 - val_acc: 0.5120\n",
      "Epoch 23/120\n",
      "10000/10000 [==============================] - 10s - loss: 1.1938 - acc: 0.5201 - val_loss: 1.1722 - val_acc: 0.5160\n",
      "Epoch 24/120\n",
      "10000/10000 [==============================] - 11s - loss: 1.1849 - acc: 0.5266 - val_loss: 1.1646 - val_acc: 0.5200\n",
      "Epoch 25/120\n",
      "10000/10000 [==============================] - 11s - loss: 1.1743 - acc: 0.5235 - val_loss: 1.1780 - val_acc: 0.5100\n",
      "Epoch 26/120\n",
      "10000/10000 [==============================] - 11s - loss: 1.1771 - acc: 0.5204 - val_loss: 1.1623 - val_acc: 0.5200\n",
      "Epoch 27/120\n",
      "10000/10000 [==============================] - 11s - loss: 1.1657 - acc: 0.5254 - val_loss: 1.1590 - val_acc: 0.5240\n",
      "Epoch 28/120\n",
      "10000/10000 [==============================] - 11s - loss: 1.1688 - acc: 0.5215 - val_loss: 1.2210 - val_acc: 0.4970\n",
      "Epoch 29/120\n",
      "10000/10000 [==============================] - 11s - loss: 1.1559 - acc: 0.5254 - val_loss: 1.1540 - val_acc: 0.5220\n",
      "Epoch 30/120\n",
      "10000/10000 [==============================] - 11s - loss: 1.1563 - acc: 0.5261 - val_loss: 1.1598 - val_acc: 0.5260\n",
      "Epoch 31/120\n",
      "10000/10000 [==============================] - 11s - loss: 1.1452 - acc: 0.5328 - val_loss: 1.1820 - val_acc: 0.5180\n",
      "Epoch 32/120\n",
      "10000/10000 [==============================] - 12s - loss: 1.1377 - acc: 0.5325 - val_loss: 1.1471 - val_acc: 0.5250\n",
      "Epoch 33/120\n",
      "10000/10000 [==============================] - 11s - loss: 1.1326 - acc: 0.5329 - val_loss: 1.1531 - val_acc: 0.5290\n",
      "Epoch 34/120\n",
      "10000/10000 [==============================] - 11s - loss: 1.1099 - acc: 0.5434 - val_loss: 1.1137 - val_acc: 0.5430\n",
      "Epoch 35/120\n",
      "10000/10000 [==============================] - 11s - loss: 1.0851 - acc: 0.5589 - val_loss: 1.1054 - val_acc: 0.5610\n",
      "Epoch 36/120\n",
      "10000/10000 [==============================] - 10s - loss: 1.0219 - acc: 0.6039 - val_loss: 1.0203 - val_acc: 0.6140\n",
      "Epoch 37/120\n",
      "10000/10000 [==============================] - 9s - loss: 0.9008 - acc: 0.6738 - val_loss: 0.8282 - val_acc: 0.7030\n",
      "Epoch 38/120\n",
      "10000/10000 [==============================] - 9s - loss: 0.7681 - acc: 0.7293 - val_loss: 0.7280 - val_acc: 0.7470\n",
      "Epoch 39/120\n",
      "10000/10000 [==============================] - 11s - loss: 0.6904 - acc: 0.7628 - val_loss: 0.6558 - val_acc: 0.7630\n",
      "Epoch 40/120\n",
      "10000/10000 [==============================] - 11s - loss: 0.6283 - acc: 0.7811 - val_loss: 0.6156 - val_acc: 0.7800\n",
      "Epoch 41/120\n",
      "10000/10000 [==============================] - 9s - loss: 0.5993 - acc: 0.7890 - val_loss: 0.5671 - val_acc: 0.7850\n",
      "Epoch 42/120\n",
      "10000/10000 [==============================] - 11s - loss: 0.5502 - acc: 0.8109 - val_loss: 0.5218 - val_acc: 0.8060\n",
      "Epoch 43/120\n",
      "10000/10000 [==============================] - 10s - loss: 0.5155 - acc: 0.8149 - val_loss: 0.5087 - val_acc: 0.8110\n",
      "Epoch 44/120\n",
      "10000/10000 [==============================] - 8s - loss: 0.4836 - acc: 0.8258 - val_loss: 0.4782 - val_acc: 0.8270\n",
      "Epoch 45/120\n",
      "10000/10000 [==============================] - 11s - loss: 0.4532 - acc: 0.8351 - val_loss: 0.4503 - val_acc: 0.8290\n",
      "Epoch 46/120\n",
      "10000/10000 [==============================] - 11s - loss: 0.4378 - acc: 0.8364 - val_loss: 0.4211 - val_acc: 0.8490\n",
      "Epoch 47/120\n",
      "10000/10000 [==============================] - 7s - loss: 0.4124 - acc: 0.8478 - val_loss: 0.4079 - val_acc: 0.8420\n",
      "Epoch 48/120\n",
      "10000/10000 [==============================] - 11s - loss: 0.3981 - acc: 0.8516 - val_loss: 0.4171 - val_acc: 0.8510\n",
      "Epoch 49/120\n",
      "10000/10000 [==============================] - 11s - loss: 0.3806 - acc: 0.8611 - val_loss: 0.3763 - val_acc: 0.8530\n",
      "Epoch 50/120\n",
      "10000/10000 [==============================] - 9s - loss: 0.3655 - acc: 0.8653 - val_loss: 0.3739 - val_acc: 0.8530\n",
      "Epoch 51/120\n",
      "10000/10000 [==============================] - 6s - loss: 0.3469 - acc: 0.8728 - val_loss: 0.4133 - val_acc: 0.8490\n",
      "Epoch 52/120\n",
      "10000/10000 [==============================] - 10s - loss: 0.3472 - acc: 0.8735 - val_loss: 0.3730 - val_acc: 0.8550\n",
      "Epoch 53/120\n",
      "10000/10000 [==============================] - 11s - loss: 0.3344 - acc: 0.8774 - val_loss: 0.3633 - val_acc: 0.8590\n",
      "Epoch 54/120\n",
      "10000/10000 [==============================] - 11s - loss: 0.3246 - acc: 0.8785 - val_loss: 0.3437 - val_acc: 0.8630\n",
      "Epoch 55/120\n",
      "10000/10000 [==============================] - 11s - loss: 0.3225 - acc: 0.8767 - val_loss: 0.3563 - val_acc: 0.8550\n",
      "Epoch 56/120\n",
      "10000/10000 [==============================] - 11s - loss: 0.3096 - acc: 0.8853 - val_loss: 0.3352 - val_acc: 0.8570\n",
      "Epoch 57/120\n",
      "10000/10000 [==============================] - 11s - loss: 0.2993 - acc: 0.8891 - val_loss: 0.3494 - val_acc: 0.8620\n",
      "Epoch 58/120\n",
      "10000/10000 [==============================] - 11s - loss: 0.2916 - acc: 0.8882 - val_loss: 0.3278 - val_acc: 0.8650\n",
      "Epoch 59/120\n",
      "10000/10000 [==============================] - 11s - loss: 0.2915 - acc: 0.8905 - val_loss: 0.3165 - val_acc: 0.8730\n",
      "Epoch 60/120\n",
      "10000/10000 [==============================] - 11s - loss: 0.2779 - acc: 0.8966 - val_loss: 0.3172 - val_acc: 0.8710\n",
      "Epoch 61/120\n",
      "10000/10000 [==============================] - 11s - loss: 0.2783 - acc: 0.8976 - val_loss: 0.3200 - val_acc: 0.8780\n",
      "Epoch 62/120\n",
      "10000/10000 [==============================] - 11s - loss: 0.2574 - acc: 0.9032 - val_loss: 0.2901 - val_acc: 0.8860\n",
      "Epoch 63/120\n",
      "10000/10000 [==============================] - 12s - loss: 0.2577 - acc: 0.9029 - val_loss: 0.2941 - val_acc: 0.8880\n",
      "Epoch 64/120\n",
      "10000/10000 [==============================] - 8s - loss: 0.2480 - acc: 0.9092 - val_loss: 0.2699 - val_acc: 0.8940\n",
      "Epoch 65/120\n",
      "10000/10000 [==============================] - 11s - loss: 0.2376 - acc: 0.9109 - val_loss: 0.2878 - val_acc: 0.8880\n",
      "Epoch 66/120\n",
      "10000/10000 [==============================] - 11s - loss: 0.2290 - acc: 0.9126 - val_loss: 0.3019 - val_acc: 0.8920\n",
      "Epoch 67/120\n",
      "10000/10000 [==============================] - 11s - loss: 0.2188 - acc: 0.9181 - val_loss: 0.2556 - val_acc: 0.9010\n",
      "Epoch 68/120\n",
      "10000/10000 [==============================] - 8s - loss: 0.2116 - acc: 0.9252 - val_loss: 0.2681 - val_acc: 0.9010\n",
      "Epoch 69/120\n",
      "10000/10000 [==============================] - 10s - loss: 0.2003 - acc: 0.9276 - val_loss: 0.2440 - val_acc: 0.9090\n",
      "Epoch 70/120\n",
      "10000/10000 [==============================] - 11s - loss: 0.2031 - acc: 0.9254 - val_loss: 0.2391 - val_acc: 0.9100\n",
      "Epoch 71/120\n",
      "10000/10000 [==============================] - 10s - loss: 0.1973 - acc: 0.9279 - val_loss: 0.2499 - val_acc: 0.8990\n",
      "Epoch 72/120\n",
      "10000/10000 [==============================] - 8s - loss: 0.1911 - acc: 0.9302 - val_loss: 0.2214 - val_acc: 0.9140\n",
      "Epoch 73/120\n",
      "10000/10000 [==============================] - 11s - loss: 0.1789 - acc: 0.9333 - val_loss: 0.2198 - val_acc: 0.9190\n",
      "Epoch 74/120\n",
      "10000/10000 [==============================] - 10s - loss: 0.1759 - acc: 0.9379 - val_loss: 0.2181 - val_acc: 0.9170\n",
      "Epoch 75/120\n",
      "10000/10000 [==============================] - 6s - loss: 0.1698 - acc: 0.9367 - val_loss: 0.2069 - val_acc: 0.9200\n",
      "Epoch 76/120\n",
      "10000/10000 [==============================] - 10s - loss: 0.1599 - acc: 0.9436 - val_loss: 0.2288 - val_acc: 0.9080\n",
      "Epoch 77/120\n",
      "10000/10000 [==============================] - 11s - loss: 0.1626 - acc: 0.9424 - val_loss: 0.2279 - val_acc: 0.9130\n",
      "Epoch 78/120\n",
      "10000/10000 [==============================] - 12s - loss: 0.1575 - acc: 0.9446 - val_loss: 0.2242 - val_acc: 0.9160\n",
      "Epoch 79/120\n",
      "10000/10000 [==============================] - 12s - loss: 0.1572 - acc: 0.9406 - val_loss: 0.2109 - val_acc: 0.9200\n",
      "Epoch 80/120\n",
      "10000/10000 [==============================] - 11s - loss: 0.1534 - acc: 0.9444 - val_loss: 0.2039 - val_acc: 0.9250\n",
      "Epoch 81/120\n",
      "10000/10000 [==============================] - 11s - loss: 0.1449 - acc: 0.9503 - val_loss: 0.2286 - val_acc: 0.9170\n",
      "Epoch 82/120\n",
      "10000/10000 [==============================] - 11s - loss: 0.1434 - acc: 0.9493 - val_loss: 0.2180 - val_acc: 0.9150\n",
      "Epoch 83/120\n",
      "10000/10000 [==============================] - 11s - loss: 0.1392 - acc: 0.9495 - val_loss: 0.1796 - val_acc: 0.9290\n",
      "Epoch 84/120\n",
      "10000/10000 [==============================] - 11s - loss: 0.1392 - acc: 0.9483 - val_loss: 0.2058 - val_acc: 0.9230\n",
      "Epoch 85/120\n",
      "10000/10000 [==============================] - 11s - loss: 0.1316 - acc: 0.9516 - val_loss: 0.2196 - val_acc: 0.9240\n",
      "Epoch 86/120\n",
      "10000/10000 [==============================] - 11s - loss: 0.1282 - acc: 0.9537 - val_loss: 0.1998 - val_acc: 0.9220\n",
      "Epoch 87/120\n",
      "10000/10000 [==============================] - 11s - loss: 0.1286 - acc: 0.9529 - val_loss: 0.1843 - val_acc: 0.9340\n",
      "Epoch 88/120\n",
      "10000/10000 [==============================] - 11s - loss: 0.1229 - acc: 0.9578 - val_loss: 0.1771 - val_acc: 0.9350\n",
      "Epoch 89/120\n",
      "10000/10000 [==============================] - 9s - loss: 0.1187 - acc: 0.9573 - val_loss: 0.1788 - val_acc: 0.9350\n",
      "Epoch 90/120\n",
      "10000/10000 [==============================] - 11s - loss: 0.1133 - acc: 0.9585 - val_loss: 0.1911 - val_acc: 0.9380\n",
      "Epoch 91/120\n",
      "10000/10000 [==============================] - 9s - loss: 0.1221 - acc: 0.9585 - val_loss: 0.1973 - val_acc: 0.9390\n",
      "Epoch 92/120\n",
      "10000/10000 [==============================] - 11s - loss: 0.1144 - acc: 0.9584 - val_loss: 0.1941 - val_acc: 0.9330\n",
      "Epoch 93/120\n",
      "10000/10000 [==============================] - 9s - loss: 0.1121 - acc: 0.9609 - val_loss: 0.2364 - val_acc: 0.9240\n",
      "Epoch 94/120\n",
      "10000/10000 [==============================] - 10s - loss: 0.1091 - acc: 0.9608 - val_loss: 0.1916 - val_acc: 0.9350\n",
      "Epoch 95/120\n",
      "10000/10000 [==============================] - 11s - loss: 0.1119 - acc: 0.9616 - val_loss: 0.1820 - val_acc: 0.9450\n",
      "Epoch 96/120\n",
      "10000/10000 [==============================] - 9s - loss: 0.1034 - acc: 0.9645 - val_loss: 0.1805 - val_acc: 0.9390\n",
      "Epoch 97/120\n",
      "10000/10000 [==============================] - 9s - loss: 0.1026 - acc: 0.9607 - val_loss: 0.1872 - val_acc: 0.9340\n",
      "Epoch 98/120\n",
      "10000/10000 [==============================] - 11s - loss: 0.0951 - acc: 0.9677 - val_loss: 0.2115 - val_acc: 0.9230\n",
      "Epoch 99/120\n",
      "10000/10000 [==============================] - 10s - loss: 0.0997 - acc: 0.9648 - val_loss: 0.1711 - val_acc: 0.9400\n",
      "Epoch 100/120\n",
      "10000/10000 [==============================] - 7s - loss: 0.0968 - acc: 0.9660 - val_loss: 0.1547 - val_acc: 0.9480\n",
      "Epoch 101/120\n",
      "10000/10000 [==============================] - 11s - loss: 0.0969 - acc: 0.9656 - val_loss: 0.1672 - val_acc: 0.9480\n",
      "Epoch 102/120\n",
      "10000/10000 [==============================] - 11s - loss: 0.0958 - acc: 0.9687 - val_loss: 0.1611 - val_acc: 0.9490\n",
      "Epoch 103/120\n",
      "10000/10000 [==============================] - 8s - loss: 0.0954 - acc: 0.9660 - val_loss: 0.1647 - val_acc: 0.9430\n",
      "Epoch 104/120\n",
      "10000/10000 [==============================] - 6s - loss: 0.0889 - acc: 0.9669 - val_loss: 0.1555 - val_acc: 0.9510\n",
      "Epoch 105/120\n",
      "10000/10000 [==============================] - 11s - loss: 0.0891 - acc: 0.9686 - val_loss: 0.1754 - val_acc: 0.9460\n",
      "Epoch 106/120\n",
      "10000/10000 [==============================] - 11s - loss: 0.0827 - acc: 0.9719 - val_loss: 0.3171 - val_acc: 0.9040\n",
      "Epoch 107/120\n",
      "10000/10000 [==============================] - 11s - loss: 0.0843 - acc: 0.9686 - val_loss: 0.1719 - val_acc: 0.9490\n",
      "Epoch 108/120\n",
      "10000/10000 [==============================] - 11s - loss: 0.0801 - acc: 0.9711 - val_loss: 0.2098 - val_acc: 0.9320\n",
      "Epoch 109/120\n",
      "10000/10000 [==============================] - 11s - loss: 0.0818 - acc: 0.9713 - val_loss: 0.1586 - val_acc: 0.9500\n",
      "Epoch 110/120\n",
      "10000/10000 [==============================] - 11s - loss: 0.0847 - acc: 0.9709 - val_loss: 0.1530 - val_acc: 0.9530\n",
      "Epoch 111/120\n",
      "10000/10000 [==============================] - 11s - loss: 0.0750 - acc: 0.9740 - val_loss: 0.1539 - val_acc: 0.9540\n",
      "Epoch 112/120\n",
      "10000/10000 [==============================] - 11s - loss: 0.0749 - acc: 0.9747 - val_loss: 0.1611 - val_acc: 0.9510\n",
      "Epoch 113/120\n",
      "10000/10000 [==============================] - 11s - loss: 0.0730 - acc: 0.9749 - val_loss: 0.1566 - val_acc: 0.9560\n",
      "Epoch 114/120\n",
      "10000/10000 [==============================] - 11s - loss: 0.0768 - acc: 0.9721 - val_loss: 0.1909 - val_acc: 0.9440\n",
      "Epoch 115/120\n",
      "10000/10000 [==============================] - 11s - loss: 0.0710 - acc: 0.9749 - val_loss: 0.1597 - val_acc: 0.9480\n",
      "Epoch 116/120\n",
      "10000/10000 [==============================] - 11s - loss: 0.0752 - acc: 0.9758 - val_loss: 0.1663 - val_acc: 0.9450\n",
      "Epoch 117/120\n",
      "10000/10000 [==============================] - 10s - loss: 0.0707 - acc: 0.9744 - val_loss: 0.2123 - val_acc: 0.9410\n",
      "Epoch 118/120\n",
      "10000/10000 [==============================] - 11s - loss: 0.0709 - acc: 0.9747 - val_loss: 0.1798 - val_acc: 0.9420\n",
      "Epoch 119/120\n",
      "10000/10000 [==============================] - 11s - loss: 0.0747 - acc: 0.9763 - val_loss: 0.1697 - val_acc: 0.9530\n",
      "Epoch 120/120\n",
      "10000/10000 [==============================] - 11s - loss: 0.0677 - acc: 0.9763 - val_loss: 0.1721 - val_acc: 0.9510\n"
     ]
    },
    {
     "data": {
      "text/plain": [
       "<keras.callbacks.History at 0x7f1dcdff30d0>"
      ]
     },
     "execution_count": 138,
     "metadata": {},
     "output_type": "execute_result"
    }
   ],
   "source": [
    "answer.compile(optimizer='rmsprop', loss='categorical_crossentropy',\n",
    "               metrics=['accuracy'])\n",
    "# Note: you could use a Graph model to avoid repeat the input twice\n",
    "answer.fit([inputs_train, queries_train, inputs_train], answers_train,\n",
    "           batch_size=32,\n",
    "           nb_epoch=120,\n",
    "           validation_data=([inputs_test, queries_test, inputs_test], answers_test))"
   ]
  },
  {
   "cell_type": "markdown",
   "metadata": {},
   "source": [
    "### Making predictions based on the fitted model"
   ]
  },
  {
   "cell_type": "code",
   "execution_count": 139,
   "metadata": {
    "collapsed": false
   },
   "outputs": [
    {
     "name": "stdout",
     "output_type": "stream",
     "text": [
      "1000/1000 [==============================] - 1s     \n"
     ]
    }
   ],
   "source": [
    "predictions=answer.predict_classes([inputs_test, queries_test, inputs_test], batch_size=32)"
   ]
  },
  {
   "cell_type": "markdown",
   "metadata": {},
   "source": [
    "### Example story and model prediction"
   ]
  },
  {
   "cell_type": "code",
   "execution_count": 142,
   "metadata": {
    "collapsed": false,
    "scrolled": true
   },
   "outputs": [],
   "source": [
    "def pred_evaluation(ind):\n",
    "    \n",
    "    print (\"The story is -: \")\n",
    "    facts = test_stories[ind]\n",
    "    print(' '.join(facts[0]))\n",
    "    print('\\n')\n",
    "    \n",
    "    print (\"The query is -:\")\n",
    "    print(' '.join(facts[1]))\n",
    "\n",
    "    print (\"\\nThe predicted answer is -:\")\n",
    "    ans = predictions[ind]\n",
    "    for key, value in (word_idx).items():\n",
    "        if value == ans:\n",
    "            print(key)\n",
    "            print('\\n')\n",
    "            \n"
   ]
  },
  {
   "cell_type": "code",
   "execution_count": 143,
   "metadata": {
    "collapsed": false
   },
   "outputs": [
    {
     "name": "stdout",
     "output_type": "stream",
     "text": [
      "The story is -: \n",
      "John travelled to the hallway . Mary journeyed to the bathroom . Daniel went back to the bathroom . John moved to the bedroom .\n",
      "\n",
      "\n",
      "The query is -:\n",
      "Where is Mary ?\n",
      "\n",
      "The predicted answer is -:\n",
      "bathroom\n",
      "\n",
      "\n"
     ]
    }
   ],
   "source": [
    "pred_evaluation(1)\n"
   ]
  },
  {
   "cell_type": "code",
   "execution_count": 144,
   "metadata": {
    "collapsed": false
   },
   "outputs": [
    {
     "name": "stdout",
     "output_type": "stream",
     "text": [
      "The story is -: \n",
      "Mary journeyed to the kitchen . Mary travelled to the hallway .\n",
      "\n",
      "\n",
      "The query is -:\n",
      "Where is Mary ?\n",
      "\n",
      "The predicted answer is -:\n",
      "hallway\n",
      "\n",
      "\n"
     ]
    }
   ],
   "source": [
    "pred_evaluation(20)\n"
   ]
  },
  {
   "cell_type": "code",
   "execution_count": 145,
   "metadata": {
    "collapsed": false
   },
   "outputs": [
    {
     "name": "stdout",
     "output_type": "stream",
     "text": [
      "The story is -: \n",
      "Sandra moved to the office . John went back to the garden .\n",
      "\n",
      "\n",
      "The query is -:\n",
      "Where is John ?\n",
      "\n",
      "The predicted answer is -:\n",
      "garden\n",
      "\n",
      "\n"
     ]
    }
   ],
   "source": [
    "pred_evaluation(540)"
   ]
  }
 ],
 "metadata": {
  "kernelspec": {
   "display_name": "Python 2",
   "language": "python",
   "name": "python2"
  },
  "language_info": {
   "codemirror_mode": {
    "name": "ipython",
    "version": 2
   },
   "file_extension": ".py",
   "mimetype": "text/x-python",
   "name": "python",
   "nbconvert_exporter": "python",
   "pygments_lexer": "ipython2",
   "version": "2.7.6"
  }
 },
 "nbformat": 4,
 "nbformat_minor": 1
}
